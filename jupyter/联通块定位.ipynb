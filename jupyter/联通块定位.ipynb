{
 "cells": [
  {
   "cell_type": "code",
   "execution_count": 2,
   "metadata": {},
   "outputs": [],
   "source": [
    "import cv2 as cv\n",
    "import matplotlib.pyplot as plt\n",
    "import numpy as np\n",
    "video = cv.VideoCapture('1.mp4')\n",
    "ret,frame = video.read()#捕获一帧图像"
   ]
  },
  {
   "cell_type": "code",
   "execution_count": 29,
   "metadata": {},
   "outputs": [
    {
     "data": {
      "image/png": "[encoded data removed]",
      "text/plain": [
       "<Figure size 432x288 with 1 Axes>"
      ]
     },
     "metadata": {
      "needs_background": "light"
     },
     "output_type": "display_data"
    }
   ],
   "source": [
    "thresh = cv.Canny(frame, 127, 256)\n",
    "plt.imshow(thresh)\n",
    "plt.show()"
   ]
  },
  {
   "cell_type": "code",
   "execution_count": null,
   "metadata": {},
   "outputs": [],
   "source": []
  },
  {
   "cell_type": "code",
   "execution_count": 3,
   "metadata": {},
   "outputs": [
    {
     "data": {
      "image/png": "[encoded data removed]",
      "text/plain": [
       "<Figure size 432x288 with 1 Axes>"
      ]
     },
     "metadata": {
      "needs_background": "light"
     },
     "output_type": "display_data"
    }
   ],
   "source": [
    "gray = cv.cvtColor(frame, cv.COLOR_RGB2GRAY)\n",
    "#ret, binary = cv.threshold(gray,90, 255, cv.THRESH_BINARY)\n",
    "#ret, binary = cv.threshold(gray,0,255,cv.THRESH_BINARY | cv.THRESH_OTSU)\n",
    "ret, binary = cv.threshold(gray,90, 255, cv.THRESH_BINARY| cv.THRESH_TRIANGLE)\n",
    "plt.imshow(binary)\n",
    "plt.show()"
   ]
  },
  {
   "cell_type": "code",
   "execution_count": 7,
   "metadata": {},
   "outputs": [
    {
     "name": "stdout",
     "output_type": "stream",
     "text": [
      "True\n"
     ]
    }
   ],
   "source": [
    "import cv2 as cv\n",
    "import matplotlib.pyplot as plt\n",
    "import numpy as np\n",
    "def draw_min_rect_circle(img, cnts):  # conts = contours\n",
    "    img = np.copy(img)\n",
    "    for cnt in cnts:\n",
    "#         print(cnt.size)\n",
    "        if(cnt.size<150):\n",
    "            continue\n",
    "        min_rect = cv.minAreaRect(cnt)  # min_area_rectangle\n",
    "        min_rect = np.int0(cv.boxPoints(min_rect))\n",
    "#         print(min_rect)\n",
    "        cv.drawContours(img, [min_rect], 0, (0, 255, 0), 2)  # green\n",
    "    return img\n",
    "video = cv.VideoCapture('1.mp4')\n",
    "ret,frame = video.read()#捕获一帧图像\n",
    "print(ret)\n",
    "while True:\n",
    "    ret,frame = video.read()#捕获一帧图像\n",
    "    gray = cv.cvtColor(frame, cv.COLOR_RGB2GRAY)\n",
    "    #ret, binary = cv.threshold(gray,90, 255, cv.THRESH_BINARY)\n",
    "    #ret, binary = cv.threshold(gray,0,255,cv.THRESH_BINARY | cv.THRESH_OTSU)\n",
    "    ret, binary = cv.threshold(gray,0, 255, cv.THRESH_BINARY| cv.THRESH_TRIANGLE)\n",
    "    thresh, contours, hierarchy = cv.findContours(binary, cv.RETR_LIST, cv.CHAIN_APPROX_SIMPLE)\n",
    "    ret = draw_min_rect_circle(frame, contours)\n",
    "    cv.imshow(\"capture\", ret)\n",
    "    if cv.waitKey(100) & 0xFF == ord('q'):\n",
    "        break\n",
    "#     plt.imshow(ret)\n",
    "#     plt.show()\n",
    "video.release()\n",
    "cv.destroyAllWindows() "
   ]
  }
 ],
 "metadata": {
  "kernelspec": {
   "display_name": "Python 3",
   "language": "python",
   "name": "python3"
  },
  "language_info": {
   "codemirror_mode": {
    "name": "ipython",
    "version": 3
   },
   "file_extension": ".py",
   "mimetype": "text/x-python",
   "name": "python",
   "nbconvert_exporter": "python",
   "pygments_lexer": "ipython3",
   "version": "3.7.1"
  }
 },
 "nbformat": 4,
 "nbformat_minor": 2
}
